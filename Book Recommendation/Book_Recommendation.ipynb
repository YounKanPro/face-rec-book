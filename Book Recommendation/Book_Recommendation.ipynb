{
  "nbformat": 4,
  "nbformat_minor": 0,
  "metadata": {
    "colab": {
      "name": "Book_Recommendation.ipynb",
      "version": "0.3.2",
      "provenance": []
    },
    "kernelspec": {
      "name": "python3",
      "display_name": "Python 3"
    }
  },
  "cells": [
    {
      "metadata": {
        "id": "qZhfjpt1U3Se",
        "colab_type": "text"
      },
      "cell_type": "markdown",
      "source": [
        "# Set up"
      ]
    },
    {
      "metadata": {
        "id": "mLOmR_RMVI51",
        "colab_type": "code",
        "outputId": "43c8ac41-f281-4e19-da7a-645f69fa1528",
        "colab": {
          "base_uri": "https://localhost:8080/",
          "height": 122
        }
      },
      "cell_type": "code",
      "source": [
        "!pip3 install surprise"
      ],
      "execution_count": 0,
      "outputs": [
        {
          "output_type": "stream",
          "text": [
            "Requirement already satisfied: surprise in /usr/local/lib/python3.6/dist-packages (0.1)\n",
            "Requirement already satisfied: scikit-surprise in /usr/local/lib/python3.6/dist-packages (from surprise) (1.0.6)\n",
            "Requirement already satisfied: numpy>=1.11.2 in /usr/local/lib/python3.6/dist-packages (from scikit-surprise->surprise) (1.16.3)\n",
            "Requirement already satisfied: joblib>=0.11 in /usr/local/lib/python3.6/dist-packages (from scikit-surprise->surprise) (0.12.5)\n",
            "Requirement already satisfied: six>=1.10.0 in /usr/local/lib/python3.6/dist-packages (from scikit-surprise->surprise) (1.12.0)\n",
            "Requirement already satisfied: scipy>=1.0.0 in /usr/local/lib/python3.6/dist-packages (from scikit-surprise->surprise) (1.2.1)\n"
          ],
          "name": "stdout"
        }
      ]
    },
    {
      "metadata": {
        "id": "3iCunV7tVZLt",
        "colab_type": "code",
        "outputId": "d31026a4-5592-4490-8085-4ccd9361cb28",
        "colab": {
          "base_uri": "https://localhost:8080/",
          "height": 34
        }
      },
      "cell_type": "code",
      "source": [
        "from google.colab import drive\n",
        "drive.mount('/content/drive')"
      ],
      "execution_count": 0,
      "outputs": [
        {
          "output_type": "stream",
          "text": [
            "Drive already mounted at /content/drive; to attempt to forcibly remount, call drive.mount(\"/content/drive\", force_remount=True).\n"
          ],
          "name": "stdout"
        }
      ]
    },
    {
      "metadata": {
        "id": "wazkdck6VlnM",
        "colab_type": "code",
        "outputId": "daa61c97-800e-4ddf-970c-d0af7d6c54eb",
        "colab": {
          "base_uri": "https://localhost:8080/",
          "height": 87
        }
      },
      "cell_type": "code",
      "source": [
        "!ls \"/content/drive/Team Drives/Senior Project/coding/book data/\"\n",
        "drivesPath =  \"/content/drive/Team Drives/Senior Project/coding/book data/\""
      ],
      "execution_count": 0,
      "outputs": [
        {
          "output_type": "stream",
          "text": [
            " books.csv\t\t book_tags.csv\t    ratings.gsheet   to_read.gsheet\n",
            " booksdata.json\t\t book_tags.gsheet   tags.csv\n",
            " books.gsheet\t\t data.csv\t    tags.gsheet\n",
            "'book_tags (1).gsheet'\t ratings.csv\t    to_read.csv\n"
          ],
          "name": "stdout"
        }
      ]
    },
    {
      "metadata": {
        "id": "wbH6lp5wWYTj",
        "colab_type": "code",
        "colab": {}
      },
      "cell_type": "code",
      "source": [
        "%matplotlib inline\n",
        "import seaborn as sns\n",
        "import pandas as pd\n",
        "import matplotlib.pyplot as plt; plt.rcdefaults()\n",
        "import numpy as np\n",
        "import matplotlib.pyplot as plt\n",
        "import pickle\n",
        "from sklearn.feature_extraction.text import TfidfVectorizer, CountVectorizer\n",
        "from sklearn.metrics.pairwise import linear_kernel, cosine_similarity\n",
        "from surprise import Reader, Dataset, SVD, evaluate, SVDpp, SlopeOne, NMF, NormalPredictor, KNNBasic, KNNWithMeans, KNNWithZScore, BaselineOnly, CoClustering\n",
        "from surprise.model_selection import cross_validate, GridSearchCV"
      ],
      "execution_count": 0,
      "outputs": []
    },
    {
      "metadata": {
        "id": "VqOdN6_OXDA8",
        "colab_type": "code",
        "colab": {}
      },
      "cell_type": "code",
      "source": [
        "books = pd.read_csv(drivesPath + \"books.csv\")\n",
        "booktags = pd.read_csv(drivesPath + \"book_tags.csv\")\n",
        "ratings = pd.read_csv(drivesPath + \"ratings.csv\")\n",
        "tags = pd.read_csv(drivesPath + \"tags.csv\")\n",
        "databook = pd.read_json(drivesPath + 'booksdata.json')"
      ],
      "execution_count": 0,
      "outputs": []
    },
    {
      "metadata": {
        "id": "PRmX7xyVU6FF",
        "colab_type": "text"
      },
      "cell_type": "markdown",
      "source": [
        "# Prepare Data"
      ]
    },
    {
      "metadata": {
        "id": "-kqdtV3xXI3F",
        "colab_type": "code",
        "outputId": "27870297-c611-4d48-87d7-1ab76dc7fe47",
        "colab": {
          "base_uri": "https://localhost:8080/",
          "height": 439
        }
      },
      "cell_type": "code",
      "source": [
        "books['isbn'] = books['isbn'].fillna(0)\n",
        "books['isbn'] = books['isbn'].apply(pd.to_numeric, errors='coerce')\n",
        "books['isbn13'] = books['isbn13'].fillna(0)\n",
        "books['isbn13'] = books['isbn13'].astype('int')\n",
        "books['original_publication_year'] = books['original_publication_year'].fillna(0)\n",
        "books['original_publication_year'] = books['original_publication_year'].astype('int')\n",
        "books['original_title'] = books['original_title'].fillna('')\n",
        "books['original_title'] = books['original_title'].astype(str)\n",
        "books['language_code'] = books['language_code'].fillna('')\n",
        "books['language_code'] = books['language_code'].astype(str)\n",
        "\n",
        "books.isnull().any()"
      ],
      "execution_count": 0,
      "outputs": [
        {
          "output_type": "execute_result",
          "data": {
            "text/plain": [
              "id                           False\n",
              "book_id                      False\n",
              "best_book_id                 False\n",
              "work_id                      False\n",
              "books_count                  False\n",
              "isbn                         False\n",
              "isbn13                       False\n",
              "authors                      False\n",
              "original_publication_year    False\n",
              "original_title               False\n",
              "title                        False\n",
              "language_code                False\n",
              "average_rating               False\n",
              "ratings_count                False\n",
              "work_ratings_count           False\n",
              "work_text_reviews_count      False\n",
              "ratings_1                    False\n",
              "ratings_2                    False\n",
              "ratings_3                    False\n",
              "ratings_4                    False\n",
              "ratings_5                    False\n",
              "image_url                    False\n",
              "small_image_url              False\n",
              "dtype: bool"
            ]
          },
          "metadata": {
            "tags": []
          },
          "execution_count": 7
        }
      ]
    },
    {
      "metadata": {
        "id": "rwDANZUpXT-F",
        "colab_type": "code",
        "outputId": "f055aebc-2ad8-4d5d-c2a3-354280e7cc15",
        "colab": {
          "base_uri": "https://localhost:8080/",
          "height": 87
        }
      },
      "cell_type": "code",
      "source": [
        "booktags.isnull().any()"
      ],
      "execution_count": 0,
      "outputs": [
        {
          "output_type": "execute_result",
          "data": {
            "text/plain": [
              "goodreads_book_id    False\n",
              "tag_id               False\n",
              "count                False\n",
              "dtype: bool"
            ]
          },
          "metadata": {
            "tags": []
          },
          "execution_count": 8
        }
      ]
    },
    {
      "metadata": {
        "id": "_oQsvtC5Xays",
        "colab_type": "code",
        "outputId": "07582156-c553-4b8c-f74b-82647bd72907",
        "colab": {
          "base_uri": "https://localhost:8080/",
          "height": 70
        }
      },
      "cell_type": "code",
      "source": [
        "tags.isnull().any()"
      ],
      "execution_count": 0,
      "outputs": [
        {
          "output_type": "execute_result",
          "data": {
            "text/plain": [
              "tag_id      False\n",
              "tag_name    False\n",
              "dtype: bool"
            ]
          },
          "metadata": {
            "tags": []
          },
          "execution_count": 9
        }
      ]
    },
    {
      "metadata": {
        "id": "GQbkW7WLXeAc",
        "colab_type": "code",
        "outputId": "6bfb4a09-ae77-4f5b-f92f-103f773232dd",
        "colab": {
          "base_uri": "https://localhost:8080/",
          "height": 87
        }
      },
      "cell_type": "code",
      "source": [
        "ratings.isnull().any()"
      ],
      "execution_count": 0,
      "outputs": [
        {
          "output_type": "execute_result",
          "data": {
            "text/plain": [
              "book_id    False\n",
              "user_id    False\n",
              "rating     False\n",
              "dtype: bool"
            ]
          },
          "metadata": {
            "tags": []
          },
          "execution_count": 10
        }
      ]
    },
    {
      "metadata": {
        "id": "TlyuCT09XnC0",
        "colab_type": "code",
        "outputId": "538eb625-4160-4cec-c921-c83d2de430ab",
        "colab": {
          "base_uri": "https://localhost:8080/",
          "height": 457
        }
      },
      "cell_type": "code",
      "source": [
        "databook.isnull().any()"
      ],
      "execution_count": 0,
      "outputs": [
        {
          "output_type": "execute_result",
          "data": {
            "text/plain": [
              "id                           False\n",
              "book_id                      False\n",
              "best_book_id                 False\n",
              "work_id                      False\n",
              "books_count                  False\n",
              "isbn                          True\n",
              "isbn13                       False\n",
              "authors                      False\n",
              "original_publication_year    False\n",
              "original_title               False\n",
              "title                        False\n",
              "language_code                False\n",
              "average_rating               False\n",
              "ratings_count                False\n",
              "work_ratings_count           False\n",
              "work_text_reviews_count      False\n",
              "ratings_1                    False\n",
              "ratings_2                    False\n",
              "ratings_3                    False\n",
              "ratings_4                    False\n",
              "ratings_5                    False\n",
              "image_url                    False\n",
              "small_image_url              False\n",
              "tags                         False\n",
              "dtype: bool"
            ]
          },
          "metadata": {
            "tags": []
          },
          "execution_count": 11
        }
      ]
    },
    {
      "metadata": {
        "id": "_TM3f3w0Xn3t",
        "colab_type": "code",
        "colab": {}
      },
      "cell_type": "code",
      "source": [
        "bookid = list(databook['book_id'])\n",
        "ratings = ratings[ratings['book_id'].isin(bookid)]"
      ],
      "execution_count": 0,
      "outputs": []
    },
    {
      "metadata": {
        "id": "B4qU4mQFXyol",
        "colab_type": "code",
        "colab": {}
      },
      "cell_type": "code",
      "source": [
        "databook['feature'] = \"\"\n",
        "\n",
        "for index, row in databook.iterrows():\n",
        "  tag = ' '.join(row['tags'])\n",
        "  databook.at[index, 'feature'] = row['title'] +\" \"+ row['authors'] +\" \"+ str(row['original_publication_year']) +\" \"+ row['language_code'] +\" \"+ tag"
      ],
      "execution_count": 0,
      "outputs": []
    },
    {
      "metadata": {
        "id": "SFHqkYENU848",
        "colab_type": "text"
      },
      "cell_type": "markdown",
      "source": [
        "# Content-based"
      ]
    },
    {
      "metadata": {
        "id": "XN4q0qMdX5zM",
        "colab_type": "code",
        "colab": {}
      },
      "cell_type": "code",
      "source": [
        "tf =  TfidfVectorizer(analyzer='word',ngram_range=(1, 2),min_df=0, stop_words='english')\n",
        "tfidf_matrix = tf.fit_transform(databook['feature'])"
      ],
      "execution_count": 0,
      "outputs": []
    },
    {
      "metadata": {
        "id": "NetXdK2wX-77",
        "colab_type": "code",
        "outputId": "5a5930f6-b6a5-4b58-9550-d49f162d7d50",
        "colab": {
          "base_uri": "https://localhost:8080/",
          "height": 34
        }
      },
      "cell_type": "code",
      "source": [
        "tfidf_matrix.shape"
      ],
      "execution_count": 0,
      "outputs": [
        {
          "output_type": "execute_result",
          "data": {
            "text/plain": [
              "(10000, 189743)"
            ]
          },
          "metadata": {
            "tags": []
          },
          "execution_count": 30
        }
      ]
    },
    {
      "metadata": {
        "id": "172KzJqVYCTs",
        "colab_type": "code",
        "colab": {}
      },
      "cell_type": "code",
      "source": [
        "cosine_sim = linear_kernel(tfidf_matrix, tfidf_matrix)"
      ],
      "execution_count": 0,
      "outputs": []
    },
    {
      "metadata": {
        "id": "TLpN2ya4YPuk",
        "colab_type": "code",
        "colab": {}
      },
      "cell_type": "code",
      "source": [
        "dataCB = databook[['title','authors','original_publication_year','language_code']]"
      ],
      "execution_count": 0,
      "outputs": []
    },
    {
      "metadata": {
        "id": "H80jbPhAYU30",
        "colab_type": "code",
        "colab": {}
      },
      "cell_type": "code",
      "source": [
        "def find_feature(title):\n",
        "  feature =  databook[(databook['title'] == title)].index[0]\n",
        "  return feature"
      ],
      "execution_count": 0,
      "outputs": []
    },
    {
      "metadata": {
        "id": "OaTh6wMkYcBs",
        "colab_type": "code",
        "colab": {}
      },
      "cell_type": "code",
      "source": [
        "def get_CB(title):\n",
        "    idx = find_feature(title)\n",
        "    sim_scores = list(enumerate(cosine_sim[idx]))\n",
        "    sim_scores = sorted(sim_scores, key=lambda x: x[1], reverse=True)\n",
        "    sim_scores = sim_scores[1:31]\n",
        "    book_indices = [i[0] for i in sim_scores]\n",
        "    return dataCB.iloc[book_indices]"
      ],
      "execution_count": 0,
      "outputs": []
    },
    {
      "metadata": {
        "id": "tZNIuO03Ygk0",
        "colab_type": "code",
        "outputId": "75317d2a-82bd-4249-ee1d-d8d38c002d27",
        "colab": {
          "base_uri": "https://localhost:8080/",
          "height": 195
        }
      },
      "cell_type": "code",
      "source": [
        "get_CB('The Hunger Games (The Hunger Games, #1)').head(5)"
      ],
      "execution_count": 0,
      "outputs": [
        {
          "output_type": "execute_result",
          "data": {
            "text/plain": [
              "                                                  title          authors  \\\n",
              "19                    Mockingjay (The Hunger Games, #3)  Suzanne Collins   \n",
              "16                 Catching Fire (The Hunger Games, #2)  Suzanne Collins   \n",
              "506   The Hunger Games Trilogy Boxset (The Hunger Ga...  Suzanne Collins   \n",
              "1354                     The Hunger Games Tribute Guide      Emily Seife   \n",
              "716   The Hunger Games: Official Illustrated Movie C...        Kate Egan   \n",
              "\n",
              "      original_publication_year language_code  \n",
              "19                         2010           eng  \n",
              "16                         2009           eng  \n",
              "506                        2010           eng  \n",
              "1354                       2012         en-US  \n",
              "716                        2012         en-US  "
            ],
            "text/html": [
              "<div>\n",
              "<style scoped>\n",
              "    .dataframe tbody tr th:only-of-type {\n",
              "        vertical-align: middle;\n",
              "    }\n",
              "\n",
              "    .dataframe tbody tr th {\n",
              "        vertical-align: top;\n",
              "    }\n",
              "\n",
              "    .dataframe thead th {\n",
              "        text-align: right;\n",
              "    }\n",
              "</style>\n",
              "<table border=\"1\" class=\"dataframe\">\n",
              "  <thead>\n",
              "    <tr style=\"text-align: right;\">\n",
              "      <th></th>\n",
              "      <th>title</th>\n",
              "      <th>authors</th>\n",
              "      <th>original_publication_year</th>\n",
              "      <th>language_code</th>\n",
              "    </tr>\n",
              "  </thead>\n",
              "  <tbody>\n",
              "    <tr>\n",
              "      <th>19</th>\n",
              "      <td>Mockingjay (The Hunger Games, #3)</td>\n",
              "      <td>Suzanne Collins</td>\n",
              "      <td>2010</td>\n",
              "      <td>eng</td>\n",
              "    </tr>\n",
              "    <tr>\n",
              "      <th>16</th>\n",
              "      <td>Catching Fire (The Hunger Games, #2)</td>\n",
              "      <td>Suzanne Collins</td>\n",
              "      <td>2009</td>\n",
              "      <td>eng</td>\n",
              "    </tr>\n",
              "    <tr>\n",
              "      <th>506</th>\n",
              "      <td>The Hunger Games Trilogy Boxset (The Hunger Ga...</td>\n",
              "      <td>Suzanne Collins</td>\n",
              "      <td>2010</td>\n",
              "      <td>eng</td>\n",
              "    </tr>\n",
              "    <tr>\n",
              "      <th>1354</th>\n",
              "      <td>The Hunger Games Tribute Guide</td>\n",
              "      <td>Emily Seife</td>\n",
              "      <td>2012</td>\n",
              "      <td>en-US</td>\n",
              "    </tr>\n",
              "    <tr>\n",
              "      <th>716</th>\n",
              "      <td>The Hunger Games: Official Illustrated Movie C...</td>\n",
              "      <td>Kate Egan</td>\n",
              "      <td>2012</td>\n",
              "      <td>en-US</td>\n",
              "    </tr>\n",
              "  </tbody>\n",
              "</table>\n",
              "</div>"
            ]
          },
          "metadata": {
            "tags": []
          },
          "execution_count": 35
        }
      ]
    },
    {
      "metadata": {
        "id": "VFl7o1UUU_L8",
        "colab_type": "text"
      },
      "cell_type": "markdown",
      "source": [
        "# Collaborative Filtering"
      ]
    },
    {
      "metadata": {
        "id": "YjrxADBbYrlE",
        "colab_type": "code",
        "colab": {}
      },
      "cell_type": "code",
      "source": [
        "# surprise reader API to read the dataset\n",
        "reader = Reader()"
      ],
      "execution_count": 0,
      "outputs": []
    },
    {
      "metadata": {
        "id": "gBr8sMIPYuUL",
        "colab_type": "code",
        "colab": {}
      },
      "cell_type": "code",
      "source": [
        "dataCF = Dataset.load_from_df(ratings[['user_id', 'book_id', 'rating']], reader)"
      ],
      "execution_count": 0,
      "outputs": []
    },
    {
      "metadata": {
        "id": "SljN5tifa2O2",
        "colab_type": "code",
        "colab": {}
      },
      "cell_type": "code",
      "source": [
        "benchmark = []"
      ],
      "execution_count": 0,
      "outputs": []
    },
    {
      "metadata": {
        "id": "j5Z5yszLY7Gc",
        "colab_type": "code",
        "colab": {}
      },
      "cell_type": "code",
      "source": [
        "# Iterate over all algorithms\n",
        "for algorithm in [SVD(), SVDpp(), SlopeOne(), NMF(), NormalPredictor()]:\n",
        "    # Perform cross validation\n",
        "    results = cross_validate(algorithm, dataCF, measures=['RMSE'], cv=2, verbose=False)\n",
        "    \n",
        "    # Get results & append algorithm name\n",
        "    tmp = pd.DataFrame.from_dict(results).mean(axis=0)\n",
        "    tmp = tmp.append(pd.Series([str(algorithm).split(' ')[0].split('.')[-1]], index=['Algorithm']))\n",
        "    benchmark.append(tmp)  "
      ],
      "execution_count": 0,
      "outputs": []
    },
    {
      "metadata": {
        "id": "tVNNutcGZZn9",
        "colab_type": "code",
        "outputId": "f31dfff6-47c1-43b8-8e87-8ad086f2916b",
        "colab": {
          "base_uri": "https://localhost:8080/",
          "height": 619
        }
      },
      "cell_type": "code",
      "source": [
        "# Iterate over all algorithms\n",
        "for algorithm in [KNNBasic(), KNNWithMeans(), KNNWithZScore(), BaselineOnly(), CoClustering()]:\n",
        "    # Perform cross validation\n",
        "    results = cross_validate(algorithm, dataCF, measures=['RMSE'], cv=2, verbose=False)\n",
        "\n",
        "    # Get results & append algorithm name\n",
        "    tmp = pd.DataFrame.from_dict(results).mean(axis=0)\n",
        "    tmp = tmp.append(pd.Series([str(algorithm).split(' ')[0].split('.')[-1]], index=['Algorithm']))\n",
        "    benchmark.append(tmp)\n",
        "    "
      ],
      "execution_count": 0,
      "outputs": [
        {
          "output_type": "stream",
          "text": [
            "Computing the msd similarity matrix...\n",
            "Done computing similarity matrix.\n",
            "Computing the msd similarity matrix...\n",
            "Done computing similarity matrix.\n",
            "Computing the msd similarity matrix...\n",
            "Done computing similarity matrix.\n",
            "Computing the msd similarity matrix...\n",
            "Done computing similarity matrix.\n",
            "Computing the msd similarity matrix...\n",
            "Done computing similarity matrix.\n",
            "Computing the msd similarity matrix...\n",
            "Done computing similarity matrix.\n",
            "Estimating biases using als...\n",
            "Estimating biases using als...\n"
          ],
          "name": "stdout"
        },
        {
          "output_type": "execute_result",
          "data": {
            "text/plain": [
              "                 test_rmse   fit_time  test_time\n",
              "Algorithm                                       \n",
              "SVDpp             0.919675   5.627934   0.721582\n",
              "SVD               0.925353   2.814984   0.355036\n",
              "BaselineOnly      0.926962   0.142188   0.233879\n",
              "CoClustering      1.009482   2.732930   0.237367\n",
              "KNNBasic          1.037608  20.394605   2.792846\n",
              "KNNWithMeans      1.047168  14.848865   2.941544\n",
              "KNNWithZScore     1.053423  18.924609   2.939154\n",
              "NMF               1.079482   4.551824   0.379501\n",
              "SlopeOne          1.083428   0.208945   0.429334\n",
              "NormalPredictor   1.328485   0.071890   0.373906"
            ],
            "text/html": [
              "<div>\n",
              "<style scoped>\n",
              "    .dataframe tbody tr th:only-of-type {\n",
              "        vertical-align: middle;\n",
              "    }\n",
              "\n",
              "    .dataframe tbody tr th {\n",
              "        vertical-align: top;\n",
              "    }\n",
              "\n",
              "    .dataframe thead th {\n",
              "        text-align: right;\n",
              "    }\n",
              "</style>\n",
              "<table border=\"1\" class=\"dataframe\">\n",
              "  <thead>\n",
              "    <tr style=\"text-align: right;\">\n",
              "      <th></th>\n",
              "      <th>test_rmse</th>\n",
              "      <th>fit_time</th>\n",
              "      <th>test_time</th>\n",
              "    </tr>\n",
              "    <tr>\n",
              "      <th>Algorithm</th>\n",
              "      <th></th>\n",
              "      <th></th>\n",
              "      <th></th>\n",
              "    </tr>\n",
              "  </thead>\n",
              "  <tbody>\n",
              "    <tr>\n",
              "      <th>SVDpp</th>\n",
              "      <td>0.919675</td>\n",
              "      <td>5.627934</td>\n",
              "      <td>0.721582</td>\n",
              "    </tr>\n",
              "    <tr>\n",
              "      <th>SVD</th>\n",
              "      <td>0.925353</td>\n",
              "      <td>2.814984</td>\n",
              "      <td>0.355036</td>\n",
              "    </tr>\n",
              "    <tr>\n",
              "      <th>BaselineOnly</th>\n",
              "      <td>0.926962</td>\n",
              "      <td>0.142188</td>\n",
              "      <td>0.233879</td>\n",
              "    </tr>\n",
              "    <tr>\n",
              "      <th>CoClustering</th>\n",
              "      <td>1.009482</td>\n",
              "      <td>2.732930</td>\n",
              "      <td>0.237367</td>\n",
              "    </tr>\n",
              "    <tr>\n",
              "      <th>KNNBasic</th>\n",
              "      <td>1.037608</td>\n",
              "      <td>20.394605</td>\n",
              "      <td>2.792846</td>\n",
              "    </tr>\n",
              "    <tr>\n",
              "      <th>KNNWithMeans</th>\n",
              "      <td>1.047168</td>\n",
              "      <td>14.848865</td>\n",
              "      <td>2.941544</td>\n",
              "    </tr>\n",
              "    <tr>\n",
              "      <th>KNNWithZScore</th>\n",
              "      <td>1.053423</td>\n",
              "      <td>18.924609</td>\n",
              "      <td>2.939154</td>\n",
              "    </tr>\n",
              "    <tr>\n",
              "      <th>NMF</th>\n",
              "      <td>1.079482</td>\n",
              "      <td>4.551824</td>\n",
              "      <td>0.379501</td>\n",
              "    </tr>\n",
              "    <tr>\n",
              "      <th>SlopeOne</th>\n",
              "      <td>1.083428</td>\n",
              "      <td>0.208945</td>\n",
              "      <td>0.429334</td>\n",
              "    </tr>\n",
              "    <tr>\n",
              "      <th>NormalPredictor</th>\n",
              "      <td>1.328485</td>\n",
              "      <td>0.071890</td>\n",
              "      <td>0.373906</td>\n",
              "    </tr>\n",
              "  </tbody>\n",
              "</table>\n",
              "</div>"
            ]
          },
          "metadata": {
            "tags": []
          },
          "execution_count": 12
        }
      ]
    },
    {
      "metadata": {
        "id": "NBWP9ojHhzrc",
        "colab_type": "code",
        "outputId": "74afc5d9-3182-47b3-88ed-a2606fe05ac8",
        "colab": {
          "base_uri": "https://localhost:8080/",
          "height": 70
        }
      },
      "cell_type": "code",
      "source": [
        "benchmark = pd.DataFrame(benchmark).set_index('Algorithm').sort_values('test_rmse')   \n",
        "benchmark.index"
      ],
      "execution_count": 0,
      "outputs": [
        {
          "output_type": "execute_result",
          "data": {
            "text/plain": [
              "Index(['SVDpp', 'SVD', 'BaselineOnly', 'CoClustering', 'KNNBasic',\n",
              "       'KNNWithMeans', 'KNNWithZScore', 'NMF', 'SlopeOne', 'NormalPredictor'],\n",
              "      dtype='object', name='Algorithm')"
            ]
          },
          "metadata": {
            "tags": []
          },
          "execution_count": 17
        }
      ]
    },
    {
      "metadata": {
        "id": "gJOMnAJ6gWIE",
        "colab_type": "code",
        "outputId": "27b596c3-52d6-4ee7-f749-4b100a25f8b8",
        "colab": {
          "base_uri": "https://localhost:8080/",
          "height": 336
        }
      },
      "cell_type": "code",
      "source": [
        "benchmark['Algorithm'] = benchmark.index\n",
        "\n",
        "colorbar =['#3F51B5', '#2196F3', '#03A9F4', '#00BCD4', '#009688','#4CAF50', '#8BC34A', '#CDDC39', '#FFEB3B', '#FFC107']\n",
        " \n",
        "fig = plt.figure(figsize=(6, 5)) \n",
        "#   benchmark.plot(kind='bar',x='Algorithm',y='test_rmse')\n",
        "algoname = benchmark['Algorithm']\n",
        "y_pos = np.arange(len(algoname))\n",
        "algormse = benchmark['test_rmse']\n",
        "\n",
        "\n",
        "\n",
        "plt.barh(y_pos, algormse, align='center', alpha=0.8 , color=colorbar)\n",
        "plt.xlim(0,1.5)\n",
        "plt.gca().invert_yaxis()\n",
        "plt.yticks(y_pos, algoname)\n",
        "\n",
        "for i, v in enumerate(algormse):\n",
        "    plt.text(v + 0.01, i + 0.15, str(round(v, 2)), color=colorbar[i])\n",
        "    \n",
        "plt.ylabel('Algorithm')\n",
        "plt.title('RMSE')\n",
        " \n",
        "plt.show()\n",
        "# plt.savefig('E:/foo.png', transparent=True)"
      ],
      "execution_count": 0,
      "outputs": [
        {
          "output_type": "display_data",
          "data": {
            "text/plain": [
              "<Figure size 432x360 with 1 Axes>"
            ],
            "image/png": "[encoded data removed]"
          },
          "metadata": {
            "tags": [],
            "needs_background": "light"
          }
        }
      ]
    },
    {
      "metadata": {
        "id": "vOva-0boiPlT",
        "colab_type": "code",
        "outputId": "2e41ddd5-530e-4dcf-e491-e2210c0d97e9",
        "colab": {
          "base_uri": "https://localhost:8080/",
          "height": 52
        }
      },
      "cell_type": "code",
      "source": [
        "param_grid = {'n_epochs': [5, 10], 'lr_all': [0.002, 0.005],\n",
        "              'reg_all': [0.4, 0.6]}\n",
        "gs = GridSearchCV(SVD, param_grid, measures=['rmse', 'mae'], cv=5)\n",
        "\n",
        "gs.fit(dataCF)\n",
        "\n",
        "# best RMSE score\n",
        "print(gs.best_score['rmse'])\n",
        "\n",
        "# combination of parameters that gave the best RMSE score\n",
        "print(gs.best_params['rmse'])"
      ],
      "execution_count": 0,
      "outputs": [
        {
          "output_type": "stream",
          "text": [
            "0.9209313869871675\n",
            "{'n_epochs': 10, 'lr_all': 0.005, 'reg_all': 0.4}\n"
          ],
          "name": "stdout"
        }
      ]
    },
    {
      "metadata": {
        "id": "v_lyAMGmiioj",
        "colab_type": "code",
        "outputId": "4c2330d6-9d51-4ebc-9000-50f19128ffc6",
        "colab": {
          "base_uri": "https://localhost:8080/",
          "height": 34
        }
      },
      "cell_type": "code",
      "source": [
        "svdmodel = gs.best_estimator['rmse']\n",
        "svdmodel.fit(dataCF.build_full_trainset())"
      ],
      "execution_count": 0,
      "outputs": [
        {
          "output_type": "execute_result",
          "data": {
            "text/plain": [
              "<surprise.prediction_algorithms.matrix_factorization.SVD at 0x28ca4a96c88>"
            ]
          },
          "metadata": {
            "tags": []
          },
          "execution_count": 22
        }
      ]
    },
    {
      "metadata": {
        "id": "tZnmFnIDiyek",
        "colab_type": "code",
        "colab": {}
      },
      "cell_type": "code",
      "source": [
        "with open('bookrec.clf', 'wb') as f:\n",
        "     pickle.dump(svdmodel, f)"
      ],
      "execution_count": 0,
      "outputs": []
    },
    {
      "metadata": {
        "id": "PJz2URsFjdp7",
        "colab_type": "code",
        "outputId": "b4f95275-37b4-4c77-97a9-35c5eb722e4e",
        "colab": {
          "base_uri": "https://localhost:8080/",
          "height": 34
        }
      },
      "cell_type": "code",
      "source": [
        "svdmodel.predict(2, 1)"
      ],
      "execution_count": 0,
      "outputs": [
        {
          "output_type": "execute_result",
          "data": {
            "text/plain": [
              "Prediction(uid=2, iid=1, r_ui=None, est=4.193020416053913, details={'was_impossible': False})"
            ]
          },
          "metadata": {
            "tags": []
          },
          "execution_count": 28
        }
      ]
    },
    {
      "metadata": {
        "id": "43YyOb6EVBKd",
        "colab_type": "text"
      },
      "cell_type": "markdown",
      "source": [
        "# Hybrid Filtering"
      ]
    },
    {
      "metadata": {
        "id": "3zIG5Grhmnud",
        "colab_type": "code",
        "colab": {}
      },
      "cell_type": "code",
      "source": [
        "import json"
      ],
      "execution_count": 0,
      "outputs": []
    },
    {
      "metadata": {
        "id": "GCDg5O2Xj2r0",
        "colab_type": "code",
        "colab": {}
      },
      "cell_type": "code",
      "source": [
        "def get_book(statusRec , Id):\n",
        "  listbook = []\n",
        "  if statusRec == \"user\":\n",
        "    userbooks = ratings[(ratings['user_id'] == Id)]\n",
        "    userbooks = userbooks.merge(databook[['title', 'book_id']], on='book_id')\n",
        "    listbook = list(userbooks['title'])\n",
        "  else:\n",
        "    tagbooks = tags[(tags['tag_id'] == Id)]\n",
        "    for book in tagbooks['books'].values[0]:\n",
        "      listbook.append(book['title'])\n",
        "      \n",
        "  return listbook"
      ],
      "execution_count": 0,
      "outputs": []
    },
    {
      "metadata": {
        "id": "MtqeUm6fjmVF",
        "colab_type": "code",
        "colab": {}
      },
      "cell_type": "code",
      "source": [
        "def hybrid(statusRec , Id):\n",
        "  \n",
        "  titlebook = get_book(statusRec,Id)\n",
        "  \n",
        "  bookrecs = pd.DataFrame()\n",
        "\n",
        "  for x in titlebook:\n",
        "      idx = find_feature(x)\n",
        "      sim_scores = list(enumerate(cosine_sim[idx]))\n",
        "      sim_scores = sorted(sim_scores, key=lambda x: x[1], reverse=True)\n",
        "      sim_scores = sim_scores[1:31]\n",
        "      book_indices = [i[0] for i in sim_scores]\n",
        "      bookrec = databook.iloc[book_indices][['book_id','title','authors','original_publication_year','language_code']]\n",
        "      bookrecs = pd.concat([pd.DataFrame(bookrec), bookrecs], ignore_index=True)\n",
        "      bookrecs['est'] = bookrecs['book_id'].apply(lambda x: svdmodel.predict(Id, x).est)\n",
        "      bookrecs = bookrecs.sort_values('est', ascending=False)\n",
        "      \n",
        "  return bookrecs.head(5)"
      ],
      "execution_count": 0,
      "outputs": []
    },
    {
      "metadata": {
        "id": "fhQDqkbcpZiE",
        "colab_type": "code",
        "outputId": "3332ade6-6615-4e79-a800-f3664be97ba7",
        "colab": {
          "base_uri": "https://localhost:8080/",
          "height": 356
        }
      },
      "cell_type": "code",
      "source": [
        "hybrid(\"user\",7)"
      ],
      "execution_count": 0,
      "outputs": [
        {
          "output_type": "stream",
          "text": [
            "C:\\Users\\youn2\\AppData\\Local\\Continuum\\anaconda3\\lib\\site-packages\\ipykernel_launcher.py:14: FutureWarning: Sorting because non-concatenation axis is not aligned. A future version\n",
            "of pandas will change to not sort by default.\n",
            "\n",
            "To accept the future behavior, pass 'sort=False'.\n",
            "\n",
            "To retain the current behavior and silence the warning, pass 'sort=True'.\n",
            "\n",
            "  \n"
          ],
          "name": "stderr"
        },
        {
          "output_type": "execute_result",
          "data": {
            "text/plain": [
              "            authors  book_id       est language_code  \\\n",
              "30     John Grisham     5346  4.320529           eng   \n",
              "31      Scott Turow     4035  4.160063           eng   \n",
              "32  Sophie Kinsella     9420  4.046862           eng   \n",
              "33  Sophie Kinsella     9417  4.043373           eng   \n",
              "34     John Grisham     5360  4.039005           eng   \n",
              "\n",
              "    original_publication_year                                   title  \n",
              "30                       2004                          The Last Juror  \n",
              "31                       1990                     The Burden of Proof  \n",
              "32                       2007      Shopaholic & Baby (Shopaholic, #5)  \n",
              "33                       2004  Shopaholic and Sister (Shopaholic, #4)  \n",
              "34                       2001                         A Painted House  "
            ],
            "text/html": [
              "<div>\n",
              "<style scoped>\n",
              "    .dataframe tbody tr th:only-of-type {\n",
              "        vertical-align: middle;\n",
              "    }\n",
              "\n",
              "    .dataframe tbody tr th {\n",
              "        vertical-align: top;\n",
              "    }\n",
              "\n",
              "    .dataframe thead th {\n",
              "        text-align: right;\n",
              "    }\n",
              "</style>\n",
              "<table border=\"1\" class=\"dataframe\">\n",
              "  <thead>\n",
              "    <tr style=\"text-align: right;\">\n",
              "      <th></th>\n",
              "      <th>authors</th>\n",
              "      <th>book_id</th>\n",
              "      <th>est</th>\n",
              "      <th>language_code</th>\n",
              "      <th>original_publication_year</th>\n",
              "      <th>title</th>\n",
              "    </tr>\n",
              "  </thead>\n",
              "  <tbody>\n",
              "    <tr>\n",
              "      <th>30</th>\n",
              "      <td>John Grisham</td>\n",
              "      <td>5346</td>\n",
              "      <td>4.320529</td>\n",
              "      <td>eng</td>\n",
              "      <td>2004</td>\n",
              "      <td>The Last Juror</td>\n",
              "    </tr>\n",
              "    <tr>\n",
              "      <th>31</th>\n",
              "      <td>Scott Turow</td>\n",
              "      <td>4035</td>\n",
              "      <td>4.160063</td>\n",
              "      <td>eng</td>\n",
              "      <td>1990</td>\n",
              "      <td>The Burden of Proof</td>\n",
              "    </tr>\n",
              "    <tr>\n",
              "      <th>32</th>\n",
              "      <td>Sophie Kinsella</td>\n",
              "      <td>9420</td>\n",
              "      <td>4.046862</td>\n",
              "      <td>eng</td>\n",
              "      <td>2007</td>\n",
              "      <td>Shopaholic &amp; Baby (Shopaholic, #5)</td>\n",
              "    </tr>\n",
              "    <tr>\n",
              "      <th>33</th>\n",
              "      <td>Sophie Kinsella</td>\n",
              "      <td>9417</td>\n",
              "      <td>4.043373</td>\n",
              "      <td>eng</td>\n",
              "      <td>2004</td>\n",
              "      <td>Shopaholic and Sister (Shopaholic, #4)</td>\n",
              "    </tr>\n",
              "    <tr>\n",
              "      <th>34</th>\n",
              "      <td>John Grisham</td>\n",
              "      <td>5360</td>\n",
              "      <td>4.039005</td>\n",
              "      <td>eng</td>\n",
              "      <td>2001</td>\n",
              "      <td>A Painted House</td>\n",
              "    </tr>\n",
              "  </tbody>\n",
              "</table>\n",
              "</div>"
            ]
          },
          "metadata": {
            "tags": []
          },
          "execution_count": 98
        }
      ]
    },
    {
      "metadata": {
        "id": "_55dYGi0qB2F",
        "colab_type": "code",
        "outputId": "f1a16a7f-a4c9-4927-a997-774e2cd132fa",
        "colab": {
          "base_uri": "https://localhost:8080/",
          "height": 356
        }
      },
      "cell_type": "code",
      "source": [
        "hybrid(\"tag\",30574)"
      ],
      "execution_count": 0,
      "outputs": [
        {
          "output_type": "stream",
          "text": [
            "C:\\Users\\youn2\\AppData\\Local\\Continuum\\anaconda3\\lib\\site-packages\\ipykernel_launcher.py:14: FutureWarning: Sorting because non-concatenation axis is not aligned. A future version\n",
            "of pandas will change to not sort by default.\n",
            "\n",
            "To accept the future behavior, pass 'sort=False'.\n",
            "\n",
            "To retain the current behavior and silence the warning, pass 'sort=True'.\n",
            "\n",
            "  \n"
          ],
          "name": "stderr"
        },
        {
          "output_type": "execute_result",
          "data": {
            "text/plain": [
              "                        authors  book_id       est language_code  \\\n",
              "30                  Howard Zinn     2767  4.342014           eng   \n",
              "31                 John Grisham     5346  4.296339           eng   \n",
              "32              Stephen Hawking     2095  4.189632         en-US   \n",
              "33  J.K. Rowling, Mary GrandPré        1  4.117750           eng   \n",
              "34                  Scott Turow     4035  4.110628           eng   \n",
              "\n",
              "    original_publication_year  \\\n",
              "30                       1980   \n",
              "31                       2004   \n",
              "32                       2001   \n",
              "33                       2005   \n",
              "34                       1990   \n",
              "\n",
              "                                                title  \n",
              "30            A People's History of the United States  \n",
              "31                                     The Last Juror  \n",
              "32                         The Universe in a Nutshell  \n",
              "33  Harry Potter and the Half-Blood Prince (Harry ...  \n",
              "34                                The Burden of Proof  "
            ],
            "text/html": [
              "<div>\n",
              "<style scoped>\n",
              "    .dataframe tbody tr th:only-of-type {\n",
              "        vertical-align: middle;\n",
              "    }\n",
              "\n",
              "    .dataframe tbody tr th {\n",
              "        vertical-align: top;\n",
              "    }\n",
              "\n",
              "    .dataframe thead th {\n",
              "        text-align: right;\n",
              "    }\n",
              "</style>\n",
              "<table border=\"1\" class=\"dataframe\">\n",
              "  <thead>\n",
              "    <tr style=\"text-align: right;\">\n",
              "      <th></th>\n",
              "      <th>authors</th>\n",
              "      <th>book_id</th>\n",
              "      <th>est</th>\n",
              "      <th>language_code</th>\n",
              "      <th>original_publication_year</th>\n",
              "      <th>title</th>\n",
              "    </tr>\n",
              "  </thead>\n",
              "  <tbody>\n",
              "    <tr>\n",
              "      <th>30</th>\n",
              "      <td>Howard Zinn</td>\n",
              "      <td>2767</td>\n",
              "      <td>4.342014</td>\n",
              "      <td>eng</td>\n",
              "      <td>1980</td>\n",
              "      <td>A People's History of the United States</td>\n",
              "    </tr>\n",
              "    <tr>\n",
              "      <th>31</th>\n",
              "      <td>John Grisham</td>\n",
              "      <td>5346</td>\n",
              "      <td>4.296339</td>\n",
              "      <td>eng</td>\n",
              "      <td>2004</td>\n",
              "      <td>The Last Juror</td>\n",
              "    </tr>\n",
              "    <tr>\n",
              "      <th>32</th>\n",
              "      <td>Stephen Hawking</td>\n",
              "      <td>2095</td>\n",
              "      <td>4.189632</td>\n",
              "      <td>en-US</td>\n",
              "      <td>2001</td>\n",
              "      <td>The Universe in a Nutshell</td>\n",
              "    </tr>\n",
              "    <tr>\n",
              "      <th>33</th>\n",
              "      <td>J.K. Rowling, Mary GrandPré</td>\n",
              "      <td>1</td>\n",
              "      <td>4.117750</td>\n",
              "      <td>eng</td>\n",
              "      <td>2005</td>\n",
              "      <td>Harry Potter and the Half-Blood Prince (Harry ...</td>\n",
              "    </tr>\n",
              "    <tr>\n",
              "      <th>34</th>\n",
              "      <td>Scott Turow</td>\n",
              "      <td>4035</td>\n",
              "      <td>4.110628</td>\n",
              "      <td>eng</td>\n",
              "      <td>1990</td>\n",
              "      <td>The Burden of Proof</td>\n",
              "    </tr>\n",
              "  </tbody>\n",
              "</table>\n",
              "</div>"
            ]
          },
          "metadata": {
            "tags": []
          },
          "execution_count": 99
        }
      ]
    },
    {
      "metadata": {
        "id": "CYnUQsgqVD60",
        "colab_type": "text"
      },
      "cell_type": "markdown",
      "source": [
        "# Export Data"
      ]
    },
    {
      "metadata": {
        "id": "m5ZGfb7YkAdT",
        "colab_type": "code",
        "colab": {}
      },
      "cell_type": "code",
      "source": [
        "#books of Top 10 Tags for data api\n",
        "\n",
        "taggrouped = booktags.groupby('tag_id')"
      ],
      "execution_count": 0,
      "outputs": []
    },
    {
      "metadata": {
        "id": "9ItTw96gkT9b",
        "colab_type": "code",
        "colab": {}
      },
      "cell_type": "code",
      "source": [
        "def get_top_book(tagbook):\n",
        "  \n",
        "  bookobjs = []\n",
        "  for index, row in tagbook.iterrows():\n",
        "    bookk = books[(books['book_id'] == row['goodreads_book_id'])]\n",
        "    bookobj = {\n",
        "        \"title\": bookk['title'].values[0],\n",
        "        \"authors\": bookk['authors'].values[0],\n",
        "        \"img\": bookk['small_image_url'].values[0],\n",
        "        \"rating\": math.ceil(bookk['average_rating'].values[0] * 2) / 2 ,\n",
        "    }\n",
        "    bookobjs.append(bookobj)\n",
        "    \n",
        "  return bookobjs"
      ],
      "execution_count": 0,
      "outputs": []
    },
    {
      "metadata": {
        "id": "pI629IpVkrM7",
        "colab_type": "code",
        "outputId": "98473edc-cf81-46d9-dc55-a17a2331999a",
        "colab": {
          "base_uri": "https://localhost:8080/",
          "height": 343
        }
      },
      "cell_type": "code",
      "source": [
        "import math\n",
        "\n",
        "tags['count'] = 0\n",
        "tags['books'] = \"\"\n",
        "\n",
        "for index, row in tags.iterrows():\n",
        "  tagb = taggrouped.get_group(row['tag_id']).sort_values('count', ascending=False)\n",
        "  tagbook = tagb.head(10)\n",
        "  tags.at[index, 'count'] = tagb['count'].sum()\n",
        "  tags.at[index, 'books'] = get_top_book(tagbook)\n",
        "\n",
        "tags.sort_values('count', ascending=False).head(10)"
      ],
      "execution_count": 0,
      "outputs": [
        {
          "output_type": "execute_result",
          "data": {
            "text/plain": [
              "       tag_id           tag_name      count  \\\n",
              "30574   30574            to-read  140718761   \n",
              "8717     8717  currently-reading    7507958   \n",
              "11557   11557          favorites    4503173   \n",
              "11743   11743            fiction    3688819   \n",
              "11305   11305            fantasy    3548157   \n",
              "33114   33114        young-adult    1848306   \n",
              "7457     7457           classics    1756920   \n",
              "5207     5207        books-i-own    1317235   \n",
              "26138   26138            romance    1231926   \n",
              "22743   22743              owned    1224279   \n",
              "\n",
              "                                                   books  \n",
              "30574  [{'title': 'The Alchemist', 'authors': 'Paulo ...  \n",
              "8717   [{'title': 'James Potter and the Hall of Elder...  \n",
              "11557  [{'title': 'The Hunger Games (The Hunger Games...  \n",
              "11743  [{'title': 'The Great Gatsby', 'authors': 'F. ...  \n",
              "11305  [{'title': 'Harry Potter and the Sorcerer's St...  \n",
              "33114  [{'title': 'The Hunger Games (The Hunger Games...  \n",
              "7457   [{'title': 'Pride and Prejudice', 'authors': '...  \n",
              "5207   [{'title': 'Harry Potter and the Sorcerer's St...  \n",
              "26138  [{'title': 'Pride and Prejudice', 'authors': '...  \n",
              "22743  [{'title': 'Harry Potter and the Sorcerer's St...  "
            ],
            "text/html": [
              "<div>\n",
              "<style scoped>\n",
              "    .dataframe tbody tr th:only-of-type {\n",
              "        vertical-align: middle;\n",
              "    }\n",
              "\n",
              "    .dataframe tbody tr th {\n",
              "        vertical-align: top;\n",
              "    }\n",
              "\n",
              "    .dataframe thead th {\n",
              "        text-align: right;\n",
              "    }\n",
              "</style>\n",
              "<table border=\"1\" class=\"dataframe\">\n",
              "  <thead>\n",
              "    <tr style=\"text-align: right;\">\n",
              "      <th></th>\n",
              "      <th>tag_id</th>\n",
              "      <th>tag_name</th>\n",
              "      <th>count</th>\n",
              "      <th>books</th>\n",
              "    </tr>\n",
              "  </thead>\n",
              "  <tbody>\n",
              "    <tr>\n",
              "      <th>30574</th>\n",
              "      <td>30574</td>\n",
              "      <td>to-read</td>\n",
              "      <td>140718761</td>\n",
              "      <td>[{'title': 'The Alchemist', 'authors': 'Paulo ...</td>\n",
              "    </tr>\n",
              "    <tr>\n",
              "      <th>8717</th>\n",
              "      <td>8717</td>\n",
              "      <td>currently-reading</td>\n",
              "      <td>7507958</td>\n",
              "      <td>[{'title': 'James Potter and the Hall of Elder...</td>\n",
              "    </tr>\n",
              "    <tr>\n",
              "      <th>11557</th>\n",
              "      <td>11557</td>\n",
              "      <td>favorites</td>\n",
              "      <td>4503173</td>\n",
              "      <td>[{'title': 'The Hunger Games (The Hunger Games...</td>\n",
              "    </tr>\n",
              "    <tr>\n",
              "      <th>11743</th>\n",
              "      <td>11743</td>\n",
              "      <td>fiction</td>\n",
              "      <td>3688819</td>\n",
              "      <td>[{'title': 'The Great Gatsby', 'authors': 'F. ...</td>\n",
              "    </tr>\n",
              "    <tr>\n",
              "      <th>11305</th>\n",
              "      <td>11305</td>\n",
              "      <td>fantasy</td>\n",
              "      <td>3548157</td>\n",
              "      <td>[{'title': 'Harry Potter and the Sorcerer's St...</td>\n",
              "    </tr>\n",
              "    <tr>\n",
              "      <th>33114</th>\n",
              "      <td>33114</td>\n",
              "      <td>young-adult</td>\n",
              "      <td>1848306</td>\n",
              "      <td>[{'title': 'The Hunger Games (The Hunger Games...</td>\n",
              "    </tr>\n",
              "    <tr>\n",
              "      <th>7457</th>\n",
              "      <td>7457</td>\n",
              "      <td>classics</td>\n",
              "      <td>1756920</td>\n",
              "      <td>[{'title': 'Pride and Prejudice', 'authors': '...</td>\n",
              "    </tr>\n",
              "    <tr>\n",
              "      <th>5207</th>\n",
              "      <td>5207</td>\n",
              "      <td>books-i-own</td>\n",
              "      <td>1317235</td>\n",
              "      <td>[{'title': 'Harry Potter and the Sorcerer's St...</td>\n",
              "    </tr>\n",
              "    <tr>\n",
              "      <th>26138</th>\n",
              "      <td>26138</td>\n",
              "      <td>romance</td>\n",
              "      <td>1231926</td>\n",
              "      <td>[{'title': 'Pride and Prejudice', 'authors': '...</td>\n",
              "    </tr>\n",
              "    <tr>\n",
              "      <th>22743</th>\n",
              "      <td>22743</td>\n",
              "      <td>owned</td>\n",
              "      <td>1224279</td>\n",
              "      <td>[{'title': 'Harry Potter and the Sorcerer's St...</td>\n",
              "    </tr>\n",
              "  </tbody>\n",
              "</table>\n",
              "</div>"
            ]
          },
          "metadata": {
            "tags": []
          },
          "execution_count": 41
        }
      ]
    }
  ]
}