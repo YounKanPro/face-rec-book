{
  "nbformat": 4,
  "nbformat_minor": 0,
  "metadata": {
    "colab": {
      "name": "Face Recognition.ipynb",
      "version": "0.3.2",
      "provenance": []
    },
    "kernelspec": {
      "name": "python3",
      "display_name": "Python 3"
    },
    "accelerator": "GPU"
  },
  "cells": [
    {
      "metadata": {
        "id": "6GYVIFCytUT4",
        "colab_type": "text"
      },
      "cell_type": "markdown",
      "source": [
        "# Set up"
      ]
    },
    {
      "metadata": {
        "id": "HYZIXBYbts6f",
        "colab_type": "code",
        "colab": {
          "base_uri": "https://localhost:8080/",
          "height": 318
        },
        "outputId": "ce4ae49f-4cdf-4c56-8bc8-25e79af5b431"
      },
      "cell_type": "code",
      "source": [
        "!pip3 install face_recognition"
      ],
      "execution_count": 1,
      "outputs": [
        {
          "output_type": "stream",
          "text": [
            "Collecting face_recognition\n",
            "  Downloading https://files.pythonhosted.org/packages/3f/ed/ad9a28042f373d4633fc8b49109b623597d6f193d3bbbef7780a5ee8eef2/face_recognition-1.2.3-py2.py3-none-any.whl\n",
            "Collecting face-recognition-models>=0.3.0 (from face_recognition)\n",
            "\u001b[?25l  Downloading https://files.pythonhosted.org/packages/cf/3b/4fd8c534f6c0d1b80ce0973d01331525538045084c73c153ee6df20224cf/face_recognition_models-0.3.0.tar.gz (100.1MB)\n",
            "\u001b[K    100% |████████████████████████████████| 100.2MB 336kB/s \n",
            "\u001b[?25hRequirement already satisfied: Click>=6.0 in /usr/local/lib/python3.6/dist-packages (from face_recognition) (7.0)\n",
            "Requirement already satisfied: numpy in /usr/local/lib/python3.6/dist-packages (from face_recognition) (1.16.3)\n",
            "Requirement already satisfied: Pillow in /usr/local/lib/python3.6/dist-packages (from face_recognition) (4.3.0)\n",
            "Requirement already satisfied: dlib>=19.7 in /usr/local/lib/python3.6/dist-packages (from face_recognition) (19.16.0)\n",
            "Requirement already satisfied: olefile in /usr/local/lib/python3.6/dist-packages (from Pillow->face_recognition) (0.46)\n",
            "Building wheels for collected packages: face-recognition-models\n",
            "  Building wheel for face-recognition-models (setup.py) ... \u001b[?25ldone\n",
            "\u001b[?25h  Stored in directory: /root/.cache/pip/wheels/d2/99/18/59c6c8f01e39810415c0e63f5bede7d83dfb0ffc039865465f\n",
            "Successfully built face-recognition-models\n",
            "Installing collected packages: face-recognition-models, face-recognition\n",
            "Successfully installed face-recognition-1.2.3 face-recognition-models-0.3.0\n"
          ],
          "name": "stdout"
        }
      ]
    },
    {
      "metadata": {
        "id": "tEX71yq_tzq_",
        "colab_type": "code",
        "colab": {
          "base_uri": "https://localhost:8080/",
          "height": 125
        },
        "outputId": "11d28123-41f2-4272-bc4d-2729066f4887"
      },
      "cell_type": "code",
      "source": [
        "from google.colab import drive\n",
        "drive.mount('/content/drive')"
      ],
      "execution_count": 2,
      "outputs": [
        {
          "output_type": "stream",
          "text": [
            "Go to this URL in a browser: https://accounts.google.com/o/oauth2/auth?client_id=947318989803-6bn6qk8qdgf4n4g3pfee6491hc0brc4i.apps.googleusercontent.com&redirect_uri=urn%3Aietf%3Awg%3Aoauth%3A2.0%3Aoob&scope=email%20https%3A%2F%2Fwww.googleapis.com%2Fauth%2Fdocs.test%20https%3A%2F%2Fwww.googleapis.com%2Fauth%2Fdrive%20https%3A%2F%2Fwww.googleapis.com%2Fauth%2Fdrive.photos.readonly%20https%3A%2F%2Fwww.googleapis.com%2Fauth%2Fpeopleapi.readonly&response_type=code\n",
            "\n",
            "Enter your authorization code:\n",
            "··········\n",
            "Mounted at /content/drive\n"
          ],
          "name": "stdout"
        }
      ]
    },
    {
      "metadata": {
        "id": "8RrNIRHkt2u_",
        "colab_type": "code",
        "colab": {
          "base_uri": "https://localhost:8080/",
          "height": 52
        },
        "outputId": "bb1d30f5-6070-4413-b454-0add367e54ac"
      },
      "cell_type": "code",
      "source": [
        "!ls '/content/drive/Team Drives/Senior Project/Docker/newData/'"
      ],
      "execution_count": 3,
      "outputs": [
        {
          "output_type": "stream",
          "text": [
            "aoi   bow  fang  lin\tmint   nam  ning  patt\twhan  ying\n",
            "auey  eye  juti  meiji\tmintg  nat  o\t  sand\tyeen  yuan\n"
          ],
          "name": "stdout"
        }
      ]
    },
    {
      "metadata": {
        "id": "ZjaVyLJ3uKyv",
        "colab_type": "code",
        "colab": {}
      },
      "cell_type": "code",
      "source": [
        "data = '/content/drive/Team Drives/Senior Project/Docker/newData/'"
      ],
      "execution_count": 0,
      "outputs": []
    },
    {
      "metadata": {
        "id": "n_zX8RiuuNvH",
        "colab_type": "code",
        "colab": {}
      },
      "cell_type": "code",
      "source": [
        "import pandas as pd\n",
        "import pickle\n",
        "import numpy as np\n",
        "import math\n",
        "from sklearn import neighbors\n",
        "import os\n",
        "import os.path\n",
        "from PIL import Image, ImageDraw\n",
        "import face_recognition\n",
        "from face_recognition.face_recognition_cli import image_files_in_folder\n",
        "from google.colab import files\n",
        "\n",
        "from sklearn.model_selection import train_test_split\n",
        "from sklearn.naive_bayes import GaussianNB\n",
        "from sklearn.metrics import accuracy_score\n",
        "from sklearn import tree\n",
        "from sklearn.ensemble import RandomForestClassifier\n",
        "\n",
        "ALLOWED_EXTENSIONS = {'png', 'jpg', 'jpeg'}"
      ],
      "execution_count": 0,
      "outputs": []
    },
    {
      "metadata": {
        "id": "pxkBx5vntVkv",
        "colab_type": "text"
      },
      "cell_type": "markdown",
      "source": [
        "# Prepare Data"
      ]
    },
    {
      "metadata": {
        "id": "Cf1ei8FnvGbw",
        "colab_type": "code",
        "colab": {
          "base_uri": "https://localhost:8080/",
          "height": 422
        },
        "outputId": "70a78ecd-7e1b-40b5-c343-651a6a329481"
      },
      "cell_type": "code",
      "source": [
        "X = []\n",
        "y = []\n",
        "\n",
        "count_allimg = 0 \n",
        "count_failimg = 0 \n",
        "\n",
        "# Loop through each person in the training set\n",
        "for class_dir in os.listdir(data):\n",
        "    if not os.path.isdir(os.path.join(data, class_dir)):\n",
        "        continue\n",
        "\n",
        "    # Loop through each training image for the current person\n",
        "    for img_path in image_files_in_folder(os.path.join(data, class_dir)):\n",
        "        image = face_recognition.load_image_file(img_path)\n",
        "        face_bounding_boxes = face_recognition.face_locations(image)\n",
        "        \n",
        "        count_allimg += 1\n",
        "\n",
        "        if len(face_bounding_boxes) != 1:\n",
        "            # If there are no people (or too many people) in a training image, skip the image.\n",
        "            count_failimg += 1\n",
        "            print(\"Image {} not suitable for training: {}\".format(img_path, \"Didn't find a face\" if len(face_bounding_boxes) < 1 else \"Found more than one face\"))\n",
        "        else:\n",
        "            # Add face encoding for current image to the training set\n",
        "            X.append(face_recognition.face_encodings(image, known_face_locations=face_bounding_boxes)[0])\n",
        "            y.append(class_dir)\n",
        "            \n",
        "print(\"count all image : \", count_allimg)\n",
        "print(\"count fail image : \", count_failimg)"
      ],
      "execution_count": 6,
      "outputs": [
        {
          "output_type": "stream",
          "text": [
            "Image /content/drive/Team Drives/Senior Project/Docker/newData/lin/frame643.jpg not suitable for training: Didn't find a face\n",
            "Image /content/drive/Team Drives/Senior Project/Docker/newData/bow/frame44.jpg not suitable for training: Didn't find a face\n",
            "Image /content/drive/Team Drives/Senior Project/Docker/newData/bow/frame40.jpg not suitable for training: Didn't find a face\n",
            "Image /content/drive/Team Drives/Senior Project/Docker/newData/bow/frame41.jpg not suitable for training: Didn't find a face\n",
            "Image /content/drive/Team Drives/Senior Project/Docker/newData/bow/frame43.jpg not suitable for training: Didn't find a face\n",
            "Image /content/drive/Team Drives/Senior Project/Docker/newData/bow/frame42.jpg not suitable for training: Didn't find a face\n",
            "Image /content/drive/Team Drives/Senior Project/Docker/newData/bow/frame57.jpg not suitable for training: Didn't find a face\n",
            "Image /content/drive/Team Drives/Senior Project/Docker/newData/bow/frame55.jpg not suitable for training: Didn't find a face\n",
            "Image /content/drive/Team Drives/Senior Project/Docker/newData/bow/frame36.jpg not suitable for training: Didn't find a face\n",
            "Image /content/drive/Team Drives/Senior Project/Docker/newData/nat/frame50.jpg not suitable for training: Didn't find a face\n",
            "Image /content/drive/Team Drives/Senior Project/Docker/newData/nat/frame66.jpg not suitable for training: Didn't find a face\n",
            "Image /content/drive/Team Drives/Senior Project/Docker/newData/nat/frame65.jpg not suitable for training: Didn't find a face\n",
            "Image /content/drive/Team Drives/Senior Project/Docker/newData/meiji/frame154.jpg not suitable for training: Found more than one face\n",
            "Image /content/drive/Team Drives/Senior Project/Docker/newData/meiji/frame158.jpg not suitable for training: Found more than one face\n",
            "Image /content/drive/Team Drives/Senior Project/Docker/newData/meiji/frame166.jpg not suitable for training: Found more than one face\n",
            "Image /content/drive/Team Drives/Senior Project/Docker/newData/mintg/frame69.jpg not suitable for training: Found more than one face\n",
            "Image /content/drive/Team Drives/Senior Project/Docker/newData/mintg/frame45.jpg not suitable for training: Found more than one face\n",
            "Image /content/drive/Team Drives/Senior Project/Docker/newData/mintg/frame65.jpg not suitable for training: Found more than one face\n",
            "Image /content/drive/Team Drives/Senior Project/Docker/newData/mintg/frame60.jpg not suitable for training: Found more than one face\n",
            "Image /content/drive/Team Drives/Senior Project/Docker/newData/mintg/frame72.jpg not suitable for training: Found more than one face\n",
            "Image /content/drive/Team Drives/Senior Project/Docker/newData/mintg/frame63.jpg not suitable for training: Found more than one face\n",
            "count all image :  394\n",
            "count fail image :  21\n"
          ],
          "name": "stdout"
        }
      ]
    },
    {
      "metadata": {
        "id": "M-HCL8CathYQ",
        "colab_type": "text"
      },
      "cell_type": "markdown",
      "source": [
        "# Train Test"
      ]
    },
    {
      "metadata": {
        "id": "4lCQyHh-v_Lw",
        "colab_type": "code",
        "colab": {
          "base_uri": "https://localhost:8080/",
          "height": 142
        },
        "outputId": "c6aa916a-f3d2-4742-9569-a6278e8b6d8d"
      },
      "cell_type": "code",
      "source": [
        "# Split our data\n",
        "train, test, train_labels, test_labels = train_test_split(X,\n",
        "                                                          y,\n",
        "                                                          test_size=0.3,\n",
        "                                                          random_state=42)\n",
        "\n",
        "# Create and train the KNN classifier\n",
        "# n_neighbors=2, algorithm='ball_tree', weights='distance'\n",
        "knn_clf = neighbors.KNeighborsClassifier()\n",
        "knn_clf.fit(train, train_labels)\n",
        "knn_preds = knn_clf.predict(test)\n",
        "\n",
        "gnb = GaussianNB()\n",
        "gnb_clf = gnb.fit(train, train_labels)\n",
        "gnb_preds = gnb_clf.predict(test)\n",
        "\n",
        "dtc_clf = tree.DecisionTreeClassifier()\n",
        "dtc_clf = dtc_clf.fit(train, train_labels)\n",
        "dtc_prediction = dtc_clf.predict(test)\n",
        "\n",
        "rfc_clf = RandomForestClassifier()\n",
        "rfc_clf.fit(train, train_labels)\n",
        "rfc_prediction = rfc_clf.predict(test)\n",
        "\n",
        "\n",
        "# # Evaluate accuracy\n",
        "print(\"KNN : \" , accuracy_score(test_labels, knn_preds))\n",
        "print(\"gnb : \" , accuracy_score(test_labels, gnb_preds))\n",
        "print(\"DecisionTreeClassifier : \" , accuracy_score(test_labels, dtc_prediction))\n",
        "print(\"RandomForestClassifier : \" , accuracy_score(test_labels, rfc_prediction))"
      ],
      "execution_count": 7,
      "outputs": [
        {
          "output_type": "stream",
          "text": [
            "KNN :  1.0\n",
            "gnb :  0.9910714285714286\n",
            "DecisionTreeClassifier :  0.8392857142857143\n",
            "RandomForestClassifier :  0.9732142857142857\n"
          ],
          "name": "stdout"
        },
        {
          "output_type": "stream",
          "text": [
            "/usr/local/lib/python3.6/dist-packages/sklearn/ensemble/forest.py:246: FutureWarning: The default value of n_estimators will change from 10 in version 0.20 to 100 in 0.22.\n",
            "  \"10 in version 0.20 to 100 in 0.22.\", FutureWarning)\n"
          ],
          "name": "stderr"
        }
      ]
    }
  ]
}